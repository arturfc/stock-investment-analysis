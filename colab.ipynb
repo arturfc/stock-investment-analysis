{
 "cells": [
  {
   "cell_type": "code",
   "execution_count": 218,
   "metadata": {},
   "outputs": [],
   "source": [
    "'''\n",
    "This cell will extract extra info about Segment and Volume from each ticker and save it into a csv file.\n",
    "'''\n",
    "\n",
    "import requests\n",
    "from bs4 import BeautifulSoup\n",
    "import pandas as pd\n",
    "\n",
    "url = \"https://www.oceans14.com.br/acoes/ranking/liquidez\"\n",
    "\n",
    "headers = {\n",
    "    'User-Agent': 'Nobody'\n",
    "}\n",
    "\n",
    "response = requests.get(url, headers=headers)\n",
    "soup = BeautifulSoup(response.content, 'html.parser')\n",
    "verAcoes_section = soup.find('section', {'id': 'verAcoes'})\n",
    "\n",
    "# Extracting the columns\n",
    "tickers = []\n",
    "segments = []\n",
    "unrefined_volumes = []\n",
    "\n",
    "# Find all rows in the table\n",
    "rows_tickers = verAcoes_section.find_all('td', style=\"text-align:left\")\n",
    "rows_segment = verAcoes_section.find_all('td', class_=\"hidden-xs hidden-sm\")\n",
    "\n",
    "# Extracting tickers from the rows\n",
    "for index, row in enumerate(rows_tickers):\n",
    "    link = row.find('a')  # Find the <a> tag within the row\n",
    "    if link:  # If <a> tag is found\n",
    "        ticker = link.text  # Extract text (ticker symbol)\n",
    "        tickers.append(ticker)  # Append the ticker to the tickers list\n",
    "    \n",
    "    # if index % 4 == 0:\n",
    "    unrefined_volume = row.text\n",
    "    unrefined_volumes.append(unrefined_volume)\n",
    "\n",
    "for index, row in enumerate(rows_segment):\n",
    "    if index % 2:\n",
    "        segment = row.text\n",
    "        segments.append(segment)\n",
    "\n",
    "\n",
    "# Obtaining the values at specific indices (5, 10, 15...)\n",
    "indices_specific = [i for i in range(4, len(unrefined_volumes), 5)]\n",
    "\n",
    "# Retrieving the values from the \"data\" list using the specific indices\n",
    "volumes = [unrefined_volumes[i] for i in indices_specific]\n",
    "\n",
    "# Combine tickers and segments into a dictionary\n",
    "data = {\n",
    "    'Ticker': tickers,\n",
    "    'Segment': segments,\n",
    "    'Volume' : volumes\n",
    "}\n",
    "\n",
    "\n",
    "# Create a Pandas DataFrame from the dictionary\n",
    "df = pd.DataFrame(data)\n",
    "df['Segment'] = df['Segment'].str.upper()\n",
    "df['Volume'] = df['Volume'].str.replace('.', '')\n",
    "df = df.drop_duplicates()\n",
    "\n",
    "df.to_csv('tickers_segments.csv', index=False)"
   ]
  },
  {
   "cell_type": "code",
   "execution_count": 38,
   "metadata": {},
   "outputs": [
    {
     "data": {
      "text/plain": [
       "DataFrame[]"
      ]
     },
     "execution_count": 38,
     "metadata": {},
     "output_type": "execute_result"
    }
   ],
   "source": [
    "from pyspark.sql.functions import col, regexp_replace, sqrt\n",
    "from pyspark.sql import SparkSession\n",
    "from pyspark.sql.types import DoubleType\n",
    "\n",
    "# Create a SparkSession\n",
    "spark = SparkSession.builder.appName(\"InvestmentAnalysis\").getOrCreate()\n",
    "\n",
    "def process_csv_to_dataframe(csv_file, dataframe_name):\n",
    "    \n",
    "    # Read the CSV file\n",
    "    df = spark.read.csv(csv_file, header=True, sep=\";\")\n",
    "\n",
    "    # Iterate through the remaining columns and apply transformations based on column names\n",
    "    for col_name in df.columns[1:]:  # Start from the second column\n",
    "        new_col_name = col_name.strip().replace(\" / \", \"_\").replace(\" \", \"_\").replace(\"/\", \"_\").replace(\".\", \"\").strip()\n",
    "        df = df.withColumnRenamed(col_name, new_col_name)\n",
    "\n",
    "        if new_col_name in [\"LIQUIDEZ_MEDIA_DIARIA\", \"VALOR_DE_MERCADO\"]:\n",
    "            df = df.withColumn(new_col_name, regexp_replace(col(new_col_name), \"[.]\", \"\"))\n",
    "            df = df.withColumn(new_col_name, regexp_replace(col(new_col_name), \"[,]\", \".\").cast(DoubleType()))    \n",
    "        else:\n",
    "            df = df.withColumn(new_col_name, regexp_replace(col(new_col_name), \",\", \".\").cast(DoubleType()))\n",
    "\n",
    "    df = df.withColumn('VI', sqrt(22.5 * col('LPA') * col('VPA')))\n",
    "    df.createOrReplaceTempView(dataframe_name)\n",
    "\n",
    "process_csv_to_dataframe(\"tickers.csv\", \"all_tickers\")\n",
    "# process_csv_to_dataframe(\"bancos.csv\", \"banks\")\n",
    "# process_csv_to_dataframe(\"energia_eletrica.csv\", \"eletric_energy\")\n",
    "\n",
    "spark.read.csv(\"tickers_segments.csv\", header=True, sep=\",\").createOrReplaceTempView(\"tickers_segments_unrefined\")\n",
    "\n",
    "# Adding segment and volume on tickers view\n",
    "spark.sql('''\n",
    "CREATE OR REPLACE TEMP VIEW all_tickers_completed AS\n",
    "          \n",
    "SELECT a.*, b.SEGMENT, b.VOLUME\n",
    "FROM all_tickers a\n",
    "LEFT JOIN (\n",
    "    SELECT TICKER, SEGMENT, CAST(VOLUME AS DOUBLE) AS VOLUME\n",
    "    FROM tickers_segments_unrefined\n",
    ") b\n",
    "  ON a.TICKER = b.TICKER\n",
    "''')"
   ]
  },
  {
   "cell_type": "code",
   "execution_count": null,
   "metadata": {},
   "outputs": [],
   "source": [
    "'''\n",
    "TODO: check if there are better segments and tickers to add\n",
    "'''"
   ]
  },
  {
   "cell_type": "code",
   "execution_count": 42,
   "metadata": {},
   "outputs": [
    {
     "name": "stdout",
     "output_type": "stream",
     "text": [
      "+---------------------------------+-----+-----+----+-----+-------------+\n",
      "|SEGMENT                          |DY   |ROE  |P_VP|P_L  |DIV_LIQ_PATRI|\n",
      "+---------------------------------+-----+-----+----+-----+-------------+\n",
      "|QUÍMICOS DIVERSOS                |16.91|22.45|2.2 |10.1 |-0.08        |\n",
      "|SIDERURGIA                       |12.05|19.4 |0.81|4.13 |0.14         |\n",
      "|MINERAIS METÁLICOS               |10.41|26.82|1.65|7.15 |0.11         |\n",
      "|EXPLORAÇÃO, REFINO E DISTRIBUIÇÃO|9.74 |20.62|1.53|13.03|0.59         |\n",
      "|SEGURADORAS                      |9.02 |41.7 |3.74|9.1  |-0.53        |\n",
      "|ÁGUA E SANEAMENTO                |7.28 |14.53|0.89|6.47 |0.49         |\n",
      "|BANCOS                           |6.0  |12.87|1.14|9.2  |NULL         |\n",
      "|ENERGIA ELÉTRICA                 |5.86 |15.4 |1.45|13.22|0.97         |\n",
      "|PAPEL E CELULOSE                 |5.77 |30.81|2.04|7.01 |1.56         |\n",
      "|PRODUTOS PARA CONSTRUÇÃO         |5.15 |11.26|0.67|5.98 |0.11         |\n",
      "|TELECOMUNICAÇÕES                 |3.26 |8.25 |1.24|15.61|0.24         |\n",
      "|MOTORES, COMPRESSORES E OUTROS   |3.01 |28.68|5.37|17.97|-0.07        |\n",
      "+---------------------------------+-----+-----+----+-----+-------------+\n",
      "\n"
     ]
    }
   ],
   "source": [
    "# Data per segment\n",
    "spark.sql('''\n",
    "SELECT SEGMENT, ROUND(AVG(DY),2) AS DY, ROUND(AVG(ROE),2) AS ROE, ROUND(AVG(P_VP),2) AS P_VP, ROUND(AVG(P_L),2) AS P_L, ROUND(AVG(DIV_LIQ_PATRI),2) AS DIV_LIQ_PATRI\n",
    "FROM all_tickers_completed\n",
    "WHERE 1=1 \n",
    "  AND DY > 0 AND P_L > 0 AND P_VP > 0 AND ROE > 0\n",
    "  AND SEGMENT IN (\"QUÍMICOS DIVERSOS\", \"MINERAIS METÁLICOS\", \"SEGURADORAS\", \"ÁGUA E SANEAMENTO\", \"ENERGIA ELÉTRICA\", \"BANCOS\", \"MOTORES, COMPRESSORES E OUTROS\", \"PAPEL E CELULOSE\", \"PRODUTOS PARA CONSTRUÇÃO\", \"EXPLORAÇÃO, REFINO E DISTRIBUIÇÃO\", \"SIDERURGIA\", \"TELECOMUNICAÇÕES\")\n",
    "  GROUP BY SEGMENT\n",
    "  ORDER BY DY DESC, ROE DESC\n",
    "''').show(100, truncate=False)"
   ]
  },
  {
   "cell_type": "code",
   "execution_count": 45,
   "metadata": {},
   "outputs": [
    {
     "name": "stdout",
     "output_type": "stream",
     "text": [
      "+------+---------------------------------+-----+------------------+-----------------+-----+-----+----+-----+-------------+---------------+\n",
      "|TICKER|SEGMENT                          |PRECO|VI                |PRECO_VI_DIVISION|DY   |ROE  |P_VP|P_L  |DIV_LIQ_PATRI|VOLUME         |\n",
      "+------+---------------------------------+-----+------------------+-----------------+-----+-----+----+-----+-------------+---------------+\n",
      "|LEVE3 |AUTOMÓVEIS E MOTOCICLETAS        |30.5 |37.1128313390396  |0.822            |11.87|49.55|3.3 |6.67 |0.13         |8.81483881E8   |\n",
      "|BBAS3 |BANCOS                           |50.45|120.43795082946238|0.419            |9.45 |20.01|0.86|4.28 |NULL         |1.0348598464E10|\n",
      "|SANB11|BANCOS                           |27.82|41.160612240344534|0.676            |6.12 |8.25 |0.9 |10.92|NULL         |1.614989311E9  |\n",
      "|ITUB4 |BANCOS                           |28.19|36.35227640739985 |0.775            |5.49 |17.65|1.49|8.47 |NULL         |1.4848193214E10|\n",
      "|TAEE11|ENERGIA ELÉTRICA                 |35.14|38.487147205268414|0.913            |9.92 |17.46|1.75|10.05|1.21         |1.520974579E9  |\n",
      "|CMIG4 |ENERGIA ELÉTRICA                 |12.68|26.944609850580505|0.471            |8.98 |28.07|1.15|4.09 |0.34         |2.298168096E9  |\n",
      "|CPLE6 |ENERGIA ELÉTRICA                 |8.84 |10.332594059576714|0.856            |8.17 |8.86 |1.18|13.29|0.55         |2.940193814E9  |\n",
      "|PETR3 |EXPLORAÇÃO, REFINO E DISTRIBUIÇÃO|38.5 |87.56143843039584 |0.44             |24.22|42.19|1.35|3.19 |0.59         |1.0241253043E10|\n",
      "|VALE3 |MINERAIS METÁLICOS               |71.5 |99.35085555746362 |0.72             |5.73 |24.99|1.68|6.73 |0.26         |3.6128830374E10|\n",
      "|ITSA4 |OUTROS                           |9.12 |15.624787998561773|0.584            |8.44 |17.26|1.11|6.43 |0.07         |3.171959783E9  |\n",
      "|KLBN11|PAPEL E CELULOSE                 |22.16|23.915852483237973|0.927            |5.68 |25.81|2.18|8.46 |1.87         |2.179392981E9  |\n",
      "|SUZB3 |PAPEL E CELULOSE                 |51.89|95.53061812843042 |0.543            |3.47 |40.79|1.64|4.02 |1.39         |8.488592252E9  |\n",
      "|UNIP6 |QUÍMICOS DIVERSOS                |72.01|65.28099263951185 |1.103            |9.6  |30.02|2.86|9.54 |-0.01        |2.76250856E8   |\n",
      "|GGBR4 |SIDERURGIA                       |23.12|58.406232544138646|0.396            |14.82|19.52|0.8 |4.08 |0.13         |4.164880117E9  |\n",
      "+------+---------------------------------+-----+------------------+-----------------+-----+-----+----+-----+-------------+---------------+\n",
      "\n"
     ]
    }
   ],
   "source": [
    "# Possible Wallet\n",
    "spark.sql('''\n",
    "SELECT TICKER, SEGMENT, PRECO, VI, ROUND(PRECO/VI,3) AS PRECO_VI_DIVISION, DY, ROE, P_VP, P_L, DIV_LIQ_PATRI, VOLUME\n",
    "FROM all_tickers_completed\n",
    "where 1=1 \n",
    "  AND TICKER IN (\"PETR3\", \"CPLE6\", \"TAEE11\", \"CMIG4\", \"KLBN11\", \"SUZB3\", \"BBAS3\", \"ITUB4\", \"SANB11\", \"UNIP6\", \"ITSA4\", \"LEVE3\", \"CSNA4\", \"GGBR4\", \"VALE3\")\n",
    "  ORDER BY SEGMENT, DY DESC\n",
    "''').show(100, truncate=False)"
   ]
  },
  {
   "cell_type": "code",
   "execution_count": 46,
   "metadata": {},
   "outputs": [
    {
     "name": "stdout",
     "output_type": "stream",
     "text": [
      "+------+-----------------+-----+------------------+-----------------+-----+-----+----+-----+-------------+------------+\n",
      "|TICKER|SEGMENT          |PRECO|VI                |PRECO_VI_DIVISION|DY   |ROE  |P_VP|P_L  |DIV_LIQ_PATRI|VOLUME      |\n",
      "+------+-----------------+-----+------------------+-----------------+-----+-----+----+-----+-------------+------------+\n",
      "|CRPG6 |QUÍMICOS DIVERSOS|40.5 |44.301580107260286|0.914            |24.68|14.88|1.61|10.82|-0.14        |1234602.0   |\n",
      "|CRPG5 |QUÍMICOS DIVERSOS|41.3 |44.301580107260286|0.932            |24.06|14.88|1.65|11.1 |-0.14        |2281661.0   |\n",
      "|UNIP6 |QUÍMICOS DIVERSOS|72.01|65.28099263951185 |1.103            |9.6  |30.02|2.86|9.54 |-0.01        |2.76250856E8|\n",
      "|UNIP3 |QUÍMICOS DIVERSOS|68.82|65.28099263951185 |1.054            |9.31 |30.02|2.68|8.94 |-0.01        |1.711768E7  |\n",
      "+------+-----------------+-----+------------------+-----------------+-----+-----+----+-----+-------------+------------+\n",
      "\n"
     ]
    }
   ],
   "source": [
    "#Query specific segment\n",
    "spark.sql('''\n",
    "SELECT TICKER, SEGMENT, PRECO, VI, ROUND(PRECO/VI,3) AS PRECO_VI_DIVISION, DY, ROE, P_VP, P_L, DIV_LIQ_PATRI, VOLUME\n",
    "FROM all_tickers_completed\n",
    "where 1=1 \n",
    "  AND SEGMENT = \"QUÍMICOS DIVERSOS\"           \n",
    "  ORDER BY SEGMENT, DY DESC\n",
    "''').show(100, truncate=False)"
   ]
  }
 ],
 "metadata": {
  "kernelspec": {
   "display_name": "Python 3",
   "language": "python",
   "name": "python3"
  },
  "language_info": {
   "codemirror_mode": {
    "name": "ipython",
    "version": 3
   },
   "file_extension": ".py",
   "mimetype": "text/x-python",
   "name": "python",
   "nbconvert_exporter": "python",
   "pygments_lexer": "ipython3",
   "version": "3.11.5"
  },
  "orig_nbformat": 4
 },
 "nbformat": 4,
 "nbformat_minor": 2
}
