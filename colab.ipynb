{
 "cells": [
  {
   "cell_type": "code",
   "execution_count": 218,
   "metadata": {},
   "outputs": [],
   "source": [
    "'''\n",
    "This cell will extract extra info about Segment and Volume from each ticker and save it into a csv file.\n",
    "'''\n",
    "\n",
    "import requests\n",
    "from bs4 import BeautifulSoup\n",
    "import pandas as pd\n",
    "\n",
    "url = \"https://www.oceans14.com.br/acoes/ranking/liquidez\"\n",
    "\n",
    "headers = {\n",
    "    'User-Agent': 'Nobody'\n",
    "}\n",
    "\n",
    "response = requests.get(url, headers=headers)\n",
    "soup = BeautifulSoup(response.content, 'html.parser')\n",
    "verAcoes_section = soup.find('section', {'id': 'verAcoes'})\n",
    "\n",
    "# Extracting the columns\n",
    "tickers = []\n",
    "segments = []\n",
    "unrefined_volumes = []\n",
    "\n",
    "# Find all rows in the table\n",
    "rows_tickers = verAcoes_section.find_all('td', style=\"text-align:left\")\n",
    "rows_segment = verAcoes_section.find_all('td', class_=\"hidden-xs hidden-sm\")\n",
    "\n",
    "# Extracting tickers from the rows\n",
    "for index, row in enumerate(rows_tickers):\n",
    "    link = row.find('a')  # Find the <a> tag within the row\n",
    "    if link:  # If <a> tag is found\n",
    "        ticker = link.text  # Extract text (ticker symbol)\n",
    "        tickers.append(ticker)  # Append the ticker to the tickers list\n",
    "    \n",
    "    # if index % 4 == 0:\n",
    "    unrefined_volume = row.text\n",
    "    unrefined_volumes.append(unrefined_volume)\n",
    "\n",
    "for index, row in enumerate(rows_segment):\n",
    "    if index % 2:\n",
    "        segment = row.text\n",
    "        segments.append(segment)\n",
    "\n",
    "\n",
    "# Obtaining the values at specific indices (5, 10, 15...)\n",
    "indices_specific = [i for i in range(4, len(unrefined_volumes), 5)]\n",
    "\n",
    "# Retrieving the values from the \"data\" list using the specific indices\n",
    "volumes = [unrefined_volumes[i] for i in indices_specific]\n",
    "\n",
    "# Combine tickers and segments into a dictionary\n",
    "data = {\n",
    "    'Ticker': tickers,\n",
    "    'Segment': segments,\n",
    "    'Volume' : volumes\n",
    "}\n",
    "\n",
    "\n",
    "# Create a Pandas DataFrame from the dictionary\n",
    "df = pd.DataFrame(data)\n",
    "df['Segment'] = df['Segment'].str.upper()\n",
    "df['Volume'] = df['Volume'].str.replace('.', '')\n",
    "df = df.drop_duplicates()\n",
    "\n",
    "# df.to_csv('tickers_segments.csv', index=False)"
   ]
  },
  {
   "cell_type": "code",
   "execution_count": 31,
   "metadata": {},
   "outputs": [
    {
     "data": {
      "text/plain": [
       "DataFrame[]"
      ]
     },
     "execution_count": 31,
     "metadata": {},
     "output_type": "execute_result"
    }
   ],
   "source": [
    "from pyspark.sql.functions import col, regexp_replace, sqrt, round\n",
    "from pyspark.sql import SparkSession\n",
    "from pyspark.sql.types import DoubleType\n",
    "\n",
    "# Create a SparkSession\n",
    "spark = SparkSession.builder.appName(\"InvestmentAnalysis\").getOrCreate()\n",
    "\n",
    "def process_csv_to_dataframe(csv_file, dataframe_name):\n",
    "    \n",
    "    # Read the CSV file\n",
    "    df = spark.read.csv(csv_file, header=True, sep=\";\")\n",
    "\n",
    "    # Iterate through the remaining columns and apply transformations based on column names\n",
    "    for col_name in df.columns[1:]:  # Start from the second column\n",
    "        new_col_name = col_name.strip().replace(\" / \", \"_\").replace(\" \", \"_\").replace(\"/\", \"_\").replace(\".\", \"\").strip()\n",
    "        df = df.withColumnRenamed(col_name, new_col_name)\n",
    "\n",
    "        if new_col_name in [\"LIQUIDEZ_MEDIA_DIARIA\", \"VALOR_DE_MERCADO\"]:\n",
    "            df = df.withColumn(new_col_name, regexp_replace(col(new_col_name), \"[.]\", \"\"))\n",
    "            df = df.withColumn(new_col_name, regexp_replace(col(new_col_name), \"[,]\", \".\").cast(DoubleType()))    \n",
    "        else:\n",
    "            df = df.withColumn(new_col_name, regexp_replace(col(new_col_name), \",\", \".\").cast(DoubleType()))\n",
    "\n",
    "    df = df.withColumn('VI', round(sqrt(22.5 * col('LPA') * col('VPA')), 2))\n",
    "    df.createOrReplaceTempView(dataframe_name)\n",
    "\n",
    "process_csv_to_dataframe(\"tickers.csv\", \"all_tickers\")\n",
    "# process_csv_to_dataframe(\"bancos.csv\", \"banks\")\n",
    "# process_csv_to_dataframe(\"energia_eletrica.csv\", \"eletric_energy\")\n",
    "\n",
    "spark.read.csv(\"tickers_segments.csv\", header=True, sep=\",\").createOrReplaceTempView(\"tickers_segments_unrefined\")\n",
    "\n",
    "# Adding segment and volume on tickers view\n",
    "spark.sql('''\n",
    "CREATE OR REPLACE TEMP VIEW all_tickers_completed AS\n",
    "          \n",
    "SELECT a.*, b.SEGMENT, b.VOLUME\n",
    "FROM all_tickers a\n",
    "LEFT JOIN (\n",
    "    SELECT TICKER, SEGMENT, CAST(VOLUME AS DOUBLE) AS VOLUME\n",
    "    FROM tickers_segments_unrefined\n",
    ") b\n",
    "  ON a.TICKER = b.TICKER\n",
    "''')"
   ]
  },
  {
   "cell_type": "code",
   "execution_count": 19,
   "metadata": {},
   "outputs": [
    {
     "data": {
      "text/plain": [
       "'\\nTODO: check if there are better segments and tickers to add\\n'"
      ]
     },
     "execution_count": 19,
     "metadata": {},
     "output_type": "execute_result"
    }
   ],
   "source": [
    "'''\n",
    "TODO: check if there are better segments and tickers to add\n",
    "'''\n",
    "\n",
    "# # Test\n",
    "# spark.sql('''\n",
    "# SELECT PATRIMONIO_ATIVOS FROM all_tickers_completed WHERE PATRIMONIO_ATIVOS < 0\n",
    "# ''').show(100, truncate=False)"
   ]
  },
  {
   "cell_type": "code",
   "execution_count": 20,
   "metadata": {},
   "outputs": [
    {
     "name": "stdout",
     "output_type": "stream",
     "text": [
      "+---------------------------------+-----+-----+----+-----+-------------+-----------------+\n",
      "|SEGMENT                          |DY   |ROE  |P_VP|P_L  |DIV_LIQ_PATRI|PATRIMONIO_ATIVOS|\n",
      "+---------------------------------+-----+-----+----+-----+-------------+-----------------+\n",
      "|QUÍMICOS DIVERSOS                |16.91|22.45|2.2 |10.1 |-0.08        |0.59             |\n",
      "|SIDERURGIA                       |12.05|19.4 |0.81|4.13 |0.14         |0.51             |\n",
      "|MINERAIS METÁLICOS               |10.41|26.82|1.65|7.15 |0.11         |0.65             |\n",
      "|EXPLORAÇÃO, REFINO E DISTRIBUIÇÃO|9.74 |20.62|1.53|13.03|0.59         |0.4              |\n",
      "|SEGURADORAS                      |9.02 |41.7 |3.74|9.1  |-0.53        |0.58             |\n",
      "|ÁGUA E SANEAMENTO                |7.28 |14.53|0.89|6.47 |0.49         |0.52             |\n",
      "|BANCOS                           |6.0  |12.87|1.14|9.2  |NULL         |0.09             |\n",
      "|ENERGIA ELÉTRICA                 |5.86 |15.4 |1.45|13.22|0.97         |0.33             |\n",
      "|PAPEL E CELULOSE                 |5.77 |30.81|2.04|7.01 |1.56         |0.26             |\n",
      "|PRODUTOS PARA CONSTRUÇÃO         |5.15 |11.26|0.67|5.98 |0.11         |0.57             |\n",
      "|TELECOMUNICAÇÕES                 |3.26 |8.25 |1.24|15.61|0.24         |0.49             |\n",
      "|MOTORES, COMPRESSORES E OUTROS   |3.01 |28.68|5.37|17.97|-0.07        |0.53             |\n",
      "+---------------------------------+-----+-----+----+-----+-------------+-----------------+\n",
      "\n"
     ]
    }
   ],
   "source": [
    "# Data per segment\n",
    "spark.sql('''\n",
    "SELECT \n",
    "  SEGMENT, \n",
    "  ROUND(AVG(DY),2) AS DY, ROUND(AVG(ROE),2) AS ROE, \n",
    "  ROUND(AVG(P_VP),2) AS P_VP, ROUND(AVG(P_L),2) AS P_L, \n",
    "  ROUND(AVG(DIV_LIQ_PATRI),2) AS DIV_LIQ_PATRI,\n",
    "  ROUND(AVG(PATRIMONIO_ATIVOS),2) AS PATRIMONIO_ATIVOS \n",
    "          \n",
    "FROM all_tickers_completed\n",
    "WHERE 1=1 \n",
    "  AND DY > 0 AND P_L > 0 AND P_VP > 0 AND ROE > 0 AND PATRIMONIO_ATIVOS > 0\n",
    "  AND SEGMENT IN (\"QUÍMICOS DIVERSOS\", \"MINERAIS METÁLICOS\", \"SEGURADORAS\", \"ÁGUA E SANEAMENTO\", \"ENERGIA ELÉTRICA\", \"BANCOS\", \"MOTORES, COMPRESSORES E OUTROS\", \"PAPEL E CELULOSE\", \"PRODUTOS PARA CONSTRUÇÃO\", \"EXPLORAÇÃO, REFINO E DISTRIBUIÇÃO\", \"SIDERURGIA\", \"TELECOMUNICAÇÕES\")\n",
    "  GROUP BY SEGMENT\n",
    "  ORDER BY DY DESC, ROE DESC\n",
    "''').show(100, truncate=False)"
   ]
  },
  {
   "cell_type": "code",
   "execution_count": 32,
   "metadata": {},
   "outputs": [
    {
     "name": "stdout",
     "output_type": "stream",
     "text": [
      "+------+----------------+-----+-----+-----------------+-----+------+----+-----+-------------+-----------------+-------------+\n",
      "|TICKER|SEGMENT         |PRECO|VI   |PRECO_VI_DIVISION|DY   |ROE   |P_VP|P_L  |DIV_LIQ_PATRI|PATRIMONIO_ATIVOS|VOLUME       |\n",
      "+------+----------------+-----+-----+-----------------+-----+------+----+-----+-------------+-----------------+-------------+\n",
      "|AURE3 |ENERGIA ELÉTRICA|13.89|25.25|0.55             |11.13|14.52 |0.97|6.65 |0.09         |0.45             |1.217467468E9|\n",
      "|TAEE3 |ENERGIA ELÉTRICA|11.69|12.83|0.911            |9.95 |17.46 |1.75|10.03|1.21         |0.36             |3.027026E7   |\n",
      "|TAEE11|ENERGIA ELÉTRICA|35.14|38.49|0.913            |9.92 |17.46 |1.75|10.05|1.21         |0.36             |1.520974579E9|\n",
      "|TAEE4 |ENERGIA ELÉTRICA|11.73|12.83|0.914            |9.87 |17.46 |1.76|10.11|1.21         |0.36             |5.8508724E7  |\n",
      "|REDE3 |ENERGIA ELÉTRICA|5.73 |5.01 |1.144            |9.4  |34.34 |3.19|9.28 |2.57         |0.14             |213852.0     |\n",
      "|CMIG4 |ENERGIA ELÉTRICA|12.68|26.94|0.471            |8.98 |28.07 |1.15|4.09 |0.34         |0.43             |2.298168096E9|\n",
      "|EGIE3 |ENERGIA ELÉTRICA|40.88|30.21|1.353            |8.83 |38.82 |3.93|10.13|1.59         |0.21             |1.086839942E9|\n",
      "|CPFE3 |ENERGIA ELÉTRICA|34.93|40.89|0.854            |8.46 |31.0  |2.2 |7.11 |1.09         |0.25             |1.144239063E9|\n",
      "|CPLE6 |ENERGIA ELÉTRICA|8.84 |10.33|0.856            |8.17 |8.86  |1.18|13.29|0.55         |0.4              |2.940193814E9|\n",
      "|CPLE11|ENERGIA ELÉTRICA|43.7 |51.49|0.849            |8.16 |8.86  |1.16|13.06|0.55         |0.4              |3.28412745E8 |\n",
      "|CPLE3 |ENERGIA ELÉTRICA|8.32 |10.33|0.805            |7.96 |8.86  |1.1 |12.39|0.55         |0.4              |8.79450416E8 |\n",
      "|CMIG3 |ENERGIA ELÉTRICA|17.0 |26.94|0.631            |6.71 |28.07 |1.54|5.47 |0.34         |0.43             |1.57520678E8 |\n",
      "|NEOE3 |ENERGIA ELÉTRICA|18.28|48.35|0.378            |6.6  |17.61 |0.72|4.1  |1.29         |0.3              |7.79839728E8 |\n",
      "|ALUP4 |ENERGIA ELÉTRICA|9.58 |12.34|0.776            |5.97 |10.19 |1.15|11.28|1.22         |0.27             |3413339.0    |\n",
      "|ALUP11|ENERGIA ELÉTRICA|29.15|37.12|0.785            |5.95 |10.19 |1.15|11.32|1.22         |0.27             |3.89221649E8 |\n",
      "|ALUP3 |ENERGIA ELÉTRICA|9.65 |12.34|0.782            |5.91 |10.19 |1.16|11.39|1.22         |0.27             |2669748.0    |\n",
      "|ENBR3 |ENERGIA ELÉTRICA|24.08|29.4 |0.819            |5.9  |11.05 |1.29|11.69|0.88         |0.3              |0.0          |\n",
      "|CLSC4 |ENERGIA ELÉTRICA|61.69|172.2|0.358            |5.34 |19.14 |0.74|3.84 |0.45         |0.27             |9123934.0    |\n",
      "|CLSC3 |ENERGIA ELÉTRICA|59.0 |172.2|0.343            |5.1  |19.14 |0.7 |3.65 |0.45         |0.27             |47489.0      |\n",
      "|TRPL4 |ENERGIA ELÉTRICA|24.09|46.94|0.513            |4.9  |13.14 |0.79|6.04 |0.4          |0.51             |2.395413726E9|\n",
      "|ENGI4 |ENERGIA ELÉTRICA|7.94 |10.1 |0.786            |3.85 |13.5  |1.34|9.94 |1.9          |0.18             |2005924.0    |\n",
      "|ELET6 |ENERGIA ELÉTRICA|40.77|28.36|1.438            |3.76 |1.53  |0.82|53.83|0.33         |0.42             |1.108662836E9|\n",
      "|TRPL3 |ENERGIA ELÉTRICA|32.04|46.94|0.683            |3.55 |13.14 |1.1 |8.36 |0.4          |0.51             |2235479.0    |\n",
      "|EMAE4 |ENERGIA ELÉTRICA|58.94|35.78|1.647            |3.37 |6.2   |1.95|31.42|-0.42        |0.55             |3840403.0    |\n",
      "|ENGI11|ENERGIA ELÉTRICA|48.56|50.6 |0.96             |3.12 |13.5  |1.66|12.28|1.9          |0.18             |2.387843911E9|\n",
      "|ENGI3 |ENERGIA ELÉTRICA|16.23|10.1 |1.607            |1.78 |13.5  |2.91|21.57|1.9          |0.18             |2294123.0    |\n",
      "|EQTL3 |ENERGIA ELÉTRICA|33.28|22.93|1.451            |1.08 |8.85  |2.0 |22.59|1.81         |0.19             |3.79460762E9 |\n",
      "|COCE5 |ENERGIA ELÉTRICA|43.0 |92.97|0.463            |0.76 |12.93 |0.75|5.77 |1.29         |0.32             |2.0227544E7  |\n",
      "|COCE3 |ENERGIA ELÉTRICA|50.01|92.97|0.538            |0.62 |12.93 |0.92|7.1  |1.29         |0.32             |0.0          |\n",
      "|ELET3 |ENERGIA ELÉTRICA|37.09|28.36|1.308            |0.61 |1.53  |0.75|48.87|0.33         |0.42             |4.908093779E9|\n",
      "|ENEV3 |ENERGIA ELÉTRICA|11.42|8.69 |1.314            |NULL |5.06  |1.33|26.19|1.28         |0.3              |1.804253888E9|\n",
      "|AESB3 |ENERGIA ELÉTRICA|10.36|6.29 |1.647            |NULL |3.29  |1.39|42.19|1.89         |0.22             |5.14669358E8 |\n",
      "|MEGA3 |ENERGIA ELÉTRICA|8.84 |3.83 |2.308            |NULL |1.02  |1.01|99.3 |1.71         |0.28             |1.84811715E8 |\n",
      "|LIGT3 |ENERGIA ELÉTRICA|5.41 |NaN  |NaN              |NULL |-172.2|0.65|-0.37|2.8          |0.13             |1.1393798E8  |\n",
      "|RNEW4 |ENERGIA ELÉTRICA|1.01 |14.14|0.071            |NULL |75.53 |0.29|0.39 |1.16         |0.31             |3807855.0    |\n",
      "|RNEW3 |ENERGIA ELÉTRICA|1.06 |14.14|0.075            |NULL |75.53 |0.3 |0.39 |1.16         |0.31             |1669797.0    |\n",
      "|RNEW11|ENERGIA ELÉTRICA|3.15 |42.39|0.074            |NULL |75.53 |0.3 |0.39 |1.16         |0.31             |506832.0     |\n",
      "+------+----------------+-----+-----+-----------------+-----+------+----+-----+-------------+-----------------+-------------+\n",
      "\n"
     ]
    }
   ],
   "source": [
    "#Query specific segment\n",
    "spark.sql('''\n",
    "SELECT TICKER, SEGMENT, PRECO, VI, ROUND(PRECO/VI,3) AS PRECO_VI_DIVISION, DY, ROE, P_VP, P_L, DIV_LIQ_PATRI, PATRIMONIO_ATIVOS, VOLUME\n",
    "FROM all_tickers_completed\n",
    "where 1=1 \n",
    "  AND SEGMENT = \"ENERGIA ELÉTRICA\"           \n",
    "  ORDER BY DY DESC, VOLUME DESC\n",
    "''').show(100, truncate=False)"
   ]
  },
  {
   "cell_type": "code",
   "execution_count": 33,
   "metadata": {},
   "outputs": [
    {
     "name": "stdout",
     "output_type": "stream",
     "text": [
      "+------+---------------------------------+-----+------+-----------------+-----+-----+----+-----+-------------+---------------+\n",
      "|TICKER|SEGMENT                          |PRECO|VI    |PRECO_VI_DIVISION|DY   |ROE  |P_VP|P_L  |DIV_LIQ_PATRI|VOLUME         |\n",
      "+------+---------------------------------+-----+------+-----------------+-----+-----+----+-----+-------------+---------------+\n",
      "|LEVE3 |AUTOMÓVEIS E MOTOCICLETAS        |30.5 |37.11 |0.822            |11.87|49.55|3.3 |6.67 |0.13         |8.81483881E8   |\n",
      "|BBAS3 |BANCOS                           |50.45|120.44|0.419            |9.45 |20.01|0.86|4.28 |NULL         |1.0348598464E10|\n",
      "|SANB11|BANCOS                           |27.82|41.16 |0.676            |6.12 |8.25 |0.9 |10.92|NULL         |1.614989311E9  |\n",
      "|ITUB4 |BANCOS                           |28.19|36.35 |0.776            |5.49 |17.65|1.49|8.47 |NULL         |1.4848193214E10|\n",
      "|TAEE11|ENERGIA ELÉTRICA                 |35.14|38.49 |0.913            |9.92 |17.46|1.75|10.05|1.21         |1.520974579E9  |\n",
      "|CMIG4 |ENERGIA ELÉTRICA                 |12.68|26.94 |0.471            |8.98 |28.07|1.15|4.09 |0.34         |2.298168096E9  |\n",
      "|CPLE6 |ENERGIA ELÉTRICA                 |8.84 |10.33 |0.856            |8.17 |8.86 |1.18|13.29|0.55         |2.940193814E9  |\n",
      "|PETR3 |EXPLORAÇÃO, REFINO E DISTRIBUIÇÃO|38.5 |87.56 |0.44             |24.22|42.19|1.35|3.19 |0.59         |1.0241253043E10|\n",
      "|VALE3 |MINERAIS METÁLICOS               |71.5 |99.35 |0.72             |5.73 |24.99|1.68|6.73 |0.26         |3.6128830374E10|\n",
      "|ITSA4 |OUTROS                           |9.12 |15.62 |0.584            |8.44 |17.26|1.11|6.43 |0.07         |3.171959783E9  |\n",
      "|KLBN11|PAPEL E CELULOSE                 |22.16|23.92 |0.926            |5.68 |25.81|2.18|8.46 |1.87         |2.179392981E9  |\n",
      "|SUZB3 |PAPEL E CELULOSE                 |51.89|95.53 |0.543            |3.47 |40.79|1.64|4.02 |1.39         |8.488592252E9  |\n",
      "|UNIP6 |QUÍMICOS DIVERSOS                |72.01|65.28 |1.103            |9.6  |30.02|2.86|9.54 |-0.01        |2.76250856E8   |\n",
      "|GGBR4 |SIDERURGIA                       |23.12|58.41 |0.396            |14.82|19.52|0.8 |4.08 |0.13         |4.164880117E9  |\n",
      "+------+---------------------------------+-----+------+-----------------+-----+-----+----+-----+-------------+---------------+\n",
      "\n"
     ]
    }
   ],
   "source": [
    "# Possible Wallet\n",
    "spark.sql('''\n",
    "SELECT TICKER, SEGMENT, PRECO, VI, ROUND(PRECO/VI,3) AS PRECO_VI_DIVISION, DY, ROE, P_VP, P_L, DIV_LIQ_PATRI, VOLUME\n",
    "FROM all_tickers_completed\n",
    "where 1=1 \n",
    "  AND TICKER IN (\"PETR3\", \"CPLE6\", \"TAEE11\", \"CMIG4\", \"KLBN11\", \"SUZB3\", \"BBAS3\", \"ITUB4\", \"SANB11\", \"UNIP6\", \"ITSA4\", \"LEVE3\", \"CSNA4\", \"GGBR4\", \"VALE3\")\n",
    "  ORDER BY SEGMENT, DY DESC\n",
    "''').show(100, truncate=False)"
   ]
  }
 ],
 "metadata": {
  "kernelspec": {
   "display_name": "Python 3",
   "language": "python",
   "name": "python3"
  },
  "language_info": {
   "codemirror_mode": {
    "name": "ipython",
    "version": 3
   },
   "file_extension": ".py",
   "mimetype": "text/x-python",
   "name": "python",
   "nbconvert_exporter": "python",
   "pygments_lexer": "ipython3",
   "version": "3.11.5"
  },
  "orig_nbformat": 4
 },
 "nbformat": 4,
 "nbformat_minor": 2
}
